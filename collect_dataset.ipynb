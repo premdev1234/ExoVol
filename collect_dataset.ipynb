{
  "nbformat": 4,
  "nbformat_minor": 0,
  "metadata": {
    "colab": {
      "provenance": [],
      "authorship_tag": "ABX9TyNwtfc2I/FeRbkazvfZ9/+1",
      "include_colab_link": true
    },
    "kernelspec": {
      "name": "python3",
      "display_name": "Python 3"
    },
    "language_info": {
      "name": "python"
    }
  },
  "cells": [
    {
      "cell_type": "markdown",
      "metadata": {
        "id": "view-in-github",
        "colab_type": "text"
      },
      "source": [
        "<a href=\"https://colab.research.google.com/github/premdev1234/ExoVol/blob/main/collect_dataset.ipynb\" target=\"_parent\"><img src=\"https://colab.research.google.com/assets/colab-badge.svg\" alt=\"Open In Colab\"/></a>"
      ]
    },
    {
      "cell_type": "markdown",
      "source": [
        "# ***ExoVol***"
      ],
      "metadata": {
        "id": "47O_47-i-ZII"
      }
    },
    {
      "cell_type": "code",
      "execution_count": null,
      "metadata": {
        "id": "YsoRro6F-Vjy"
      },
      "outputs": [],
      "source": [
        "!pip install alpaca-py requests\n"
      ]
    },
    {
      "cell_type": "code",
      "source": [
        "!pip install --upgrade alpaca-trade-api"
      ],
      "metadata": {
        "id": "wro0X4ZRWv1F"
      },
      "execution_count": null,
      "outputs": []
    },
    {
      "cell_type": "code",
      "source": [
        "from alpaca.data.historical import OptionHistoricalDataClient as ohdc\n",
        "from alpaca.data.requests import OptionChainRequest as ocr"
      ],
      "metadata": {
        "id": "FEQWKt2iVUc4"
      },
      "execution_count": 5,
      "outputs": []
    },
    {
      "cell_type": "code",
      "source": [
        "YOUR_API_KEY_ID = 'PKGZY6DYVIL68WMCAHWU'\n",
        "YOUR_API_SECRET_KEY = 'wHIpftEj0ahJfuIPM1znmdIvrUenYi9i0pVmiJfz'\n",
        "client  = ohdc(YOUR_API_KEY_ID, YOUR_API_SECRET_KEY)\n",
        "underlying_symbol = \"AAPL\"\n",
        "request_params = ocr(underlying_symbol=underlying_symbol)\n",
        "option_chain = client.get_option_chain(request_params)\n"
      ],
      "metadata": {
        "id": "r5T59HOetS11"
      },
      "execution_count": null,
      "outputs": []
    },
    {
      "cell_type": "code",
      "source": [
        "for contract in option_chain:\n",
        "    print(contract)"
      ],
      "metadata": {
        "id": "qx6yJIKIbVo3"
      },
      "execution_count": null,
      "outputs": []
    },
    {
      "cell_type": "code",
      "source": [
        "from alpaca.data.requests import OptionBarsRequest\n",
        "from alpaca.data.timeframe import TimeFrame\n",
        "from datetime import datetime\n",
        "\n",
        "option_symbol = AAPL270115P00200000"
      ],
      "metadata": {
        "id": "nbK0H0ElYV4T"
      },
      "execution_count": 10,
      "outputs": []
    }
  ]
}